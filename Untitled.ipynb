{
 "cells": [
  {
   "cell_type": "code",
   "execution_count": 39,
   "metadata": {},
   "outputs": [],
   "source": [
    "from selenium import webdriver\n",
    "from selenium.common.exceptions import TimeoutException\n",
    "from selenium.webdriver.support.ui import WebDriverWait # available since 2.4.0\n",
    "from selenium.webdriver.support import expected_conditions as EC # available since 2.26.0\n",
    "from bs4 import BeautifulSoup\n",
    "import time\n",
    "import pandas as pd\n",
    "import numpy as np\n",
    "driver = webdriver.Firefox(executable_path='/usr/local/bin/geckodriver')\n",
    "driver.implicitly_wait(3)\n",
    "\n",
    "driver.get(\"https://games.skillz.com\")\n",
    "driver.implicitly_wait(7)\n",
    "\n",
    "total_title_list=[]\n",
    "total_description_list=[]\n",
    "total_genre_list=[]\n",
    "html=driver.page_source\n",
    "soup=BeautifulSoup(html,'html.parser')\n",
    "menu_list=soup.find_all('span', class_='cell__genre_text')\n",
    "url_list=[]\n",
    "for menu in menu_list:\n",
    "    url_list.append(menu.text)\n",
    "for url in url_list:\n",
    "    driver.get(\"https://games.skillz.com/genres/\"+ url)\n",
    "    driver.implicitly_wait(3)\n",
    "    genres_html=driver.page_source\n",
    "    soup=BeautifulSoup(genres_html,'html.parser')\n",
    "    title_list=soup.find_all('span', class_='listViewCellText__title text_color_primary')\n",
    "    description_list=soup.find_all('span',class_='listViewCellText__description text_color_primary')\n",
    "    genre_list=soup.find_all('span',class_='listViewCellText__genre theme_color')\n",
    "    for title in title_list:\n",
    "        total_title_list.append(title.text)\n",
    "    for description in description_list:\n",
    "        total_description_list.append(description.text)\n",
    "    for genre in genre_list:\n",
    "        total_genre_list.append(genre.text)\n",
    "    driver.back() \n",
    "\n"
   ]
  },
  {
   "cell_type": "code",
   "execution_count": 41,
   "metadata": {},
   "outputs": [],
   "source": [
    "data=[total_title_list,total_description_list,total_genre_list]\n",
    "new_data=np.transpose(data)\n",
    "df=pd.DataFrame(new_data)\n",
    "df.to_csv('path\\\\skillz_games.csv')"
   ]
  },
  {
   "cell_type": "code",
   "execution_count": null,
   "metadata": {},
   "outputs": [],
   "source": []
  }
 ],
 "metadata": {
  "kernelspec": {
   "display_name": "Python 3",
   "language": "python",
   "name": "python3"
  },
  "language_info": {
   "codemirror_mode": {
    "name": "ipython",
    "version": 3
   },
   "file_extension": ".py",
   "mimetype": "text/x-python",
   "name": "python",
   "nbconvert_exporter": "python",
   "pygments_lexer": "ipython3",
   "version": "3.7.6"
  }
 },
 "nbformat": 4,
 "nbformat_minor": 4
}
