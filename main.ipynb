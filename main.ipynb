{
 "cells": [
  {
   "cell_type": "code",
   "execution_count": 32,
   "metadata": {},
   "outputs": [],
   "source": [
    "import requests\n",
    "from bs4 import BeautifulSoup\n",
    "from datetime import datetime as dt\n",
    "import numpy as np\n",
    "import pandas as pd\n",
    "def onlylist(list):\n",
    "    result=[]\n",
    "    for a in list:\n",
    "        if result.count(a)<1:\n",
    "            result.append(a)\n",
    "    return result\n",
    "request=requests.get(\"https://www.naver.com\")\n",
    "html=request.text"
   ]
  },
  {
   "cell_type": "code",
   "execution_count": 33,
   "metadata": {
    "scrolled": true
   },
   "outputs": [
    {
     "name": "stdout",
     "output_type": "stream",
     "text": [
      "0           주예지\n",
      "1           박지민\n",
      "2           이국종\n",
      "3           유희석\n",
      "4       주예지 인스타\n",
      "5           전영록\n",
      "6           원유철\n",
      "7         전영록재혼\n",
      "8     잃어버린 도시 z\n",
      "9            김웅\n",
      "10        안톤 옐친\n",
      "11         taal\n",
      "12      편의점 샛별이\n",
      "13      김하영 유민상\n",
      "14          김현미\n",
      "15          진세연\n",
      "16    밥은 먹고 다니냐\n",
      "17          히트맨\n",
      "18    AOA 탈퇴 멤버\n",
      "19       5 to 7\n",
      "dtype: object\n"
     ]
    }
   ],
   "source": [
    "soup= BeautifulSoup(html,'html.parser')\n",
    "wanted=soup.findAll('span',{\"class\":\"ah_k\"})\n",
    "now=dt.now()\n",
    "words=[]\n",
    "for word in wanted:\n",
    "    words.append(word.get_text())\n",
    "onlylist=onlylist(words)\n",
    "onlylist=pd.Series(onlylist)\n",
    "print(onlylist)"
   ]
  },
  {
   "cell_type": "code",
   "execution_count": null,
   "metadata": {},
   "outputs": [],
   "source": []
  }
 ],
 "metadata": {
  "kernelspec": {
   "display_name": "Python 3",
   "language": "python",
   "name": "python3"
  },
  "language_info": {
   "codemirror_mode": {
    "name": "ipython",
    "version": 3
   },
   "file_extension": ".py",
   "mimetype": "text/x-python",
   "name": "python",
   "nbconvert_exporter": "python",
   "pygments_lexer": "ipython3",
   "version": "3.7.1"
  }
 },
 "nbformat": 4,
 "nbformat_minor": 2
}
