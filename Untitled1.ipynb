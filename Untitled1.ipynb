{
 "cells": [
  {
   "cell_type": "code",
   "execution_count": 75,
   "metadata": {},
   "outputs": [],
   "source": [
    "import psycopg2 as pg\n",
    "import pandas as pd\n",
    "import openpyxl\n",
    "\n",
    "#database connect\n",
    "conn=pg.connect(host='show-down-postgres.postgres.database.azure.com',\n",
    "                port='5432',dbname='show_down_server',\n",
    "                user='growth@show-down-postgres',password='rmfhTmgozj2020!@#$')"
   ]
  },
  {
   "cell_type": "code",
   "execution_count": 84,
   "metadata": {},
   "outputs": [],
   "source": [
    "#query_select\n",
    "user_raw_data=pd.read_sql(\n",
    "    \"\"\"\n",
    "    with login_data as (\n",
    "select date(created), user_id, case when user_id is not null then 1 else 0 end as login\n",
    "from users_loginhistory\n",
    "where user_id in (select user_id from base_customuser where last_modified >='2020-04-01')\n",
    "GROUP BY 1,2),\n",
    "\n",
    "game_data as (\n",
    "select date(created), user_id, \n",
    "sum(case when memo like 'match_entry:35736683%' then 1 else 0 end) as richten_entry,\n",
    "sum(case when memo like 'match_entry:569105744%' then 1 else 0 end) as richline_entry,\n",
    "sum(case when memo like 'match_entry:736820608%' then 1 else 0 end) as oceanshooter_entry,\n",
    "sum(case when memo like 'match_entry:%' and delta_cash!=0 then round(delta_cash/10000.0,2) else 0 end)-sum(case when memo like 'match_rollback:%' and delta_cash!=0 then round(delta_cash/10000.0,2) else 0 end) as total_cash_entry,\n",
    "sum(case when memo like 'match_cancelled:%' and delta_cash!=0 then round(delta_cash/10000.0,2) else 0 end) as total_cash_cancelled,\n",
    "sum(case when memo like 'match_prize:%' and delta_cash!=0 then round(delta_cash/10000.0,2) else 0 end) as total_cash_prize,\n",
    "sum(case when memo like 'deposit:%' then round(delta_cash/10000.0,2) else 0 end) as deposit,\n",
    "sum(case when memo like 'product_buy:%' then round(delta_cash/10000.0,2) else 0 end) as gemstore,\n",
    "sum(case when memo like 'quest:%' then round(delta_cash/10000.0,2) else 0 end) as quest,\n",
    "sum(case when memo like 'ranker:%' then round(delta_cash/10000.0,2) else 0 end) as ranking,\n",
    "sum(case when memo like 'withdraw_register%' then round(delta_cash/10000.0,2) else 0 end) as withdraw\n",
    "from users_assethistory\n",
    "where user_id in (select user_id from base_customuser where last_modified >='2020-04-01')\n",
    "GROUP BY 1,2\n",
    "),\n",
    "\n",
    "date_user_id as (SELECT date(generate_series(date'2020-02-17', date'2020-04-24', '1 day')) as day, user_id\n",
    "from game_data\n",
    "GROUP BY 1,2),\n",
    "\n",
    "cash_data as (select day, a.user_id, round(sum(delta_cash)/10000.0,2) as cash, round(sum(delta_bonus_cash)/10000.0,2) as bonus_cash\n",
    "from users_assethistory as a\n",
    "RIGHT join generate_series(date'2020-02-17', date'2020-04-24', '1 day') as day\n",
    "on date(a.created) <= day.date\n",
    "where created >= '2020-02-17' \n",
    "and a.user_id in (select user_id from base_customuser where last_modified >='2020-04-01')\n",
    "GROUP BY 1,2)\n",
    "\n",
    "select t.day,t.user_id,login,richten_entry,richline_entry,oceanshooter_entry,total_cash_entry,total_cash_cancelled,total_cash_prize,(total_cash_entry+total_cash_prize) as net_prize,\n",
    "deposit,gemstore,quest,ranking,withdraw, cash,bonus_cash\n",
    "from date_user_id as t\n",
    "left join login_data\n",
    "on date(login_data.date)=date(t.day) and t.user_id=login_data.user_id\n",
    "left join game_data\n",
    "on date(game_data.date)=date(t.day) and t.user_id=game_data.user_id\n",
    "left join cash_data\n",
    "on date(cash_data.day)=date(t.day) and t.user_id=cash_data.user_id\n",
    "where not(login is not null or cash is not null or richline_entry is not null)=FALSE\n",
    "ORDER BY 1\n",
    "\"\"\"\n",
    ",conn)"
   ]
  },
  {
   "cell_type": "code",
   "execution_count": 85,
   "metadata": {},
   "outputs": [],
   "source": [
    "user_info=pd.read_sql(\"\"\"\n",
    "select user_id, nickname, date(created), round(cash/10000.0,2) as cash, round(bonus_cash/10000.0,2) as bonus_cash, ticket, point, locale,\n",
    "case when fb_id is not null then TRUE else FALSE end as facebook,\n",
    "case when go_id is not null then TRUE else FALSE end as google,\n",
    "case when service_name is not null then TRUE ELSE FALSE END as cashtree\n",
    "from base_customuser\n",
    "where last_modified >='2020-04-01'\n",
    "\"\"\",conn)"
   ]
  },
  {
   "cell_type": "code",
   "execution_count": null,
   "metadata": {},
   "outputs": [],
   "source": []
  },
  {
   "cell_type": "code",
   "execution_count": 86,
   "metadata": {},
   "outputs": [],
   "source": [
    "vip=pd.ExcelWriter('vip_3.xlsx')\n",
    "user_raw_data.to_excel(vip,sheet_name = 'Raw_data')\n",
    "user_info.to_excel(vip,sheet_name = 'user_info')"
   ]
  },
  {
   "cell_type": "code",
   "execution_count": 87,
   "metadata": {},
   "outputs": [],
   "source": [
    "vip.save()"
   ]
  },
  {
   "cell_type": "code",
   "execution_count": null,
   "metadata": {},
   "outputs": [],
   "source": []
  },
  {
   "cell_type": "code",
   "execution_count": null,
   "metadata": {},
   "outputs": [],
   "source": []
  }
 ],
 "metadata": {
  "kernelspec": {
   "display_name": "Python 3",
   "language": "python",
   "name": "python3"
  },
  "language_info": {
   "codemirror_mode": {
    "name": "ipython",
    "version": 3
   },
   "file_extension": ".py",
   "mimetype": "text/x-python",
   "name": "python",
   "nbconvert_exporter": "python",
   "pygments_lexer": "ipython3",
   "version": "3.7.6"
  }
 },
 "nbformat": 4,
 "nbformat_minor": 4
}
